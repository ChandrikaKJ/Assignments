{
 "cells": [
  {
   "cell_type": "markdown",
   "id": "9048b0f2",
   "metadata": {},
   "source": [
    "# Hypothesis testing"
   ]
  },
  {
   "cell_type": "markdown",
   "id": "ed3a2ff3",
   "metadata": {},
   "source": [
    "# Assignment-03-Q1"
   ]
  },
  {
   "cell_type": "markdown",
   "id": "26ba0c06",
   "metadata": {},
   "source": [
    "Null Hypothesis Ho : μ1 = μ2 (No difference in diameters of cutlets between two units)\n",
    "\n",
    "Alternate Hypothesis Ha : μ1 ≠ μ2 (Significant difference in diameters of cutlets between two units)\n",
    "\n",
    "Since it is a problem of 2 samples, 2 sample 2 tail test approach is used.\n",
    "Also, as the number of samples collected from both the units are greater than 30 so, insted of t-test, z-test is used."
   ]
  },
  {
   "cell_type": "code",
   "execution_count": null,
   "id": "a5c47e30",
   "metadata": {
    "ExecuteTime": {
     "end_time": "2022-04-03T05:02:48.308269Z",
     "start_time": "2022-04-03T05:02:48.296172Z"
    }
   },
   "outputs": [],
   "source": [
    "import pandas as pd\n",
    "import numpy as np\n",
    "from scipy import stats\n",
    "from scipy.stats import norm"
   ]
  },
  {
   "cell_type": "code",
   "execution_count": null,
   "id": "3fb0a961",
   "metadata": {
    "ExecuteTime": {
     "end_time": "2022-04-03T05:09:49.241194Z",
     "start_time": "2022-04-03T05:09:49.222192Z"
    }
   },
   "outputs": [],
   "source": [
    "cutlets=pd.read_csv(\"Cutlets.csv\")\n",
    "cutlets.shape"
   ]
  },
  {
   "cell_type": "code",
   "execution_count": null,
   "id": "9576dadc",
   "metadata": {
    "ExecuteTime": {
     "end_time": "2022-04-03T05:10:09.782801Z",
     "start_time": "2022-04-03T05:10:09.750143Z"
    }
   },
   "outputs": [],
   "source": [
    "cutlets.describe()"
   ]
  },
  {
   "cell_type": "code",
   "execution_count": null,
   "id": "45c3330b",
   "metadata": {
    "ExecuteTime": {
     "end_time": "2022-04-03T05:11:21.491772Z",
     "start_time": "2022-04-03T05:11:21.470606Z"
    }
   },
   "outputs": [],
   "source": [
    "# Checking for null values \n",
    "cutlets.isna().sum()"
   ]
  },
  {
   "cell_type": "code",
   "execution_count": null,
   "id": "b862dfbe",
   "metadata": {
    "ExecuteTime": {
     "end_time": "2022-04-03T05:12:16.548301Z",
     "start_time": "2022-04-03T05:12:16.541187Z"
    }
   },
   "outputs": [],
   "source": [
    "unit_a = cutlets['Unit A']\n",
    "unit_b = cutlets['Unit B']"
   ]
  },
  {
   "cell_type": "code",
   "execution_count": null,
   "id": "4e9e1a9f",
   "metadata": {
    "ExecuteTime": {
     "end_time": "2022-04-03T06:29:29.949005Z",
     "start_time": "2022-04-03T06:29:29.930347Z"
    }
   },
   "outputs": [],
   "source": [
    "# 2-sample 2-tail ttest\n",
    "p_value=stats.ttest_ind(unit_a,unit_b)\n",
    "p_value"
   ]
  },
  {
   "cell_type": "markdown",
   "id": "f86bcf52",
   "metadata": {},
   "source": [
    "p value > 0.05 ; α = 5%\n",
    "\n",
    "Hence accept Ho (No difference in diameters of cutlets between two units)"
   ]
  },
  {
   "cell_type": "markdown",
   "id": "659f05d7",
   "metadata": {},
   "source": [
    "# Assignment-03-Q2"
   ]
  },
  {
   "cell_type": "markdown",
   "id": "c81546d0",
   "metadata": {},
   "source": [
    "Hypothesis Test: Anova f-test statistics\n",
    "\n",
    "Null Hypothesis Ho : μ1 = μ2 = μ3 = μ4 (All samples Turn Around Time (TAT) population means are same)\n",
    "\n",
    "Alternate Hypothesis Ha : Atleast one sample Turn Around Time (TAT) population mean is different.\n"
   ]
  },
  {
   "cell_type": "code",
   "execution_count": null,
   "id": "35161c2b",
   "metadata": {
    "ExecuteTime": {
     "end_time": "2022-04-03T07:05:56.295901Z",
     "start_time": "2022-04-03T07:05:56.283039Z"
    }
   },
   "outputs": [],
   "source": [
    "import pandas as pd\n",
    "import numpy as np\n",
    "from scipy import stats\n",
    "from scipy.stats import norm"
   ]
  },
  {
   "cell_type": "code",
   "execution_count": null,
   "id": "bf8a691b",
   "metadata": {
    "ExecuteTime": {
     "end_time": "2022-04-03T06:48:42.177978Z",
     "start_time": "2022-04-03T06:48:42.165363Z"
    }
   },
   "outputs": [],
   "source": [
    "LabTAT=pd.read_csv(\"LabTAT.csv\")\n",
    "LabTAT.shape"
   ]
  },
  {
   "cell_type": "code",
   "execution_count": null,
   "id": "4a1eda5e",
   "metadata": {
    "ExecuteTime": {
     "end_time": "2022-04-03T06:49:13.137059Z",
     "start_time": "2022-04-03T06:49:13.109875Z"
    }
   },
   "outputs": [],
   "source": [
    "LabTAT.describe()"
   ]
  },
  {
   "cell_type": "code",
   "execution_count": null,
   "id": "8787570b",
   "metadata": {
    "ExecuteTime": {
     "end_time": "2022-04-03T06:49:49.412826Z",
     "start_time": "2022-04-03T06:49:49.396005Z"
    }
   },
   "outputs": [],
   "source": [
    "# Checking for null values \n",
    "LabTAT.isna().sum()"
   ]
  },
  {
   "cell_type": "code",
   "execution_count": null,
   "id": "9c447c02",
   "metadata": {
    "ExecuteTime": {
     "end_time": "2022-04-03T06:52:32.778707Z",
     "start_time": "2022-04-03T06:52:32.774845Z"
    }
   },
   "outputs": [],
   "source": [
    "lab1 = LabTAT['Laboratory 1']\n",
    "lab2 = LabTAT['Laboratory 2']\n",
    "lab3 = LabTAT['Laboratory 3']\n",
    "lab4 = LabTAT['Laboratory 4']"
   ]
  },
  {
   "cell_type": "code",
   "execution_count": null,
   "id": "7f863a13",
   "metadata": {
    "ExecuteTime": {
     "end_time": "2022-04-03T06:54:08.626843Z",
     "start_time": "2022-04-03T06:54:08.612606Z"
    }
   },
   "outputs": [],
   "source": [
    "# Anova ftest statistics: stats.f_oneway(column-1,column-2,column-3,column-4)\n",
    "p_value=stats.f_oneway(lab1,lab2,lab3,lab4)\n",
    "p_value"
   ]
  },
  {
   "cell_type": "markdown",
   "id": "96959786",
   "metadata": {},
   "source": [
    "p value < 0.05 ; α = 5%\n",
    "\n",
    "Hence accept Ha (Atleast one sample Turn Around Time (TAT) population mean is different)"
   ]
  },
  {
   "cell_type": "markdown",
   "id": "7bf9c111",
   "metadata": {},
   "source": [
    "# Assignment-03-Q3"
   ]
  },
  {
   "cell_type": "markdown",
   "id": "30d8dc4a",
   "metadata": {},
   "source": [
    "Hypothesis Test: Chi-Square contingency Test\n",
    "\n",
    "Null Hypothesis Ho : Male-Female buyer rations are similar across regions.\n",
    "\n",
    "Alternate Hypothesis Ha : Male-Female buyer rations are not similar across regions."
   ]
  },
  {
   "cell_type": "code",
   "execution_count": null,
   "id": "4ebc2214",
   "metadata": {
    "ExecuteTime": {
     "end_time": "2022-04-03T07:07:03.483620Z",
     "start_time": "2022-04-03T07:07:03.472358Z"
    }
   },
   "outputs": [],
   "source": [
    "import pandas as pd\n",
    "import numpy as np\n",
    "from scipy import stats\n",
    "from scipy.stats import norm\n",
    "from scipy.stats import chi2_contingency"
   ]
  },
  {
   "cell_type": "code",
   "execution_count": null,
   "id": "49270a4f",
   "metadata": {
    "ExecuteTime": {
     "end_time": "2022-04-03T07:11:34.661706Z",
     "start_time": "2022-04-03T07:11:34.644836Z"
    }
   },
   "outputs": [],
   "source": [
    "BuyerRatio=pd.read_csv(\"BuyerRatio.csv\")\n",
    "BuyerRatio"
   ]
  },
  {
   "cell_type": "code",
   "execution_count": null,
   "id": "c0734bb4",
   "metadata": {
    "ExecuteTime": {
     "end_time": "2022-04-03T07:12:25.065578Z",
     "start_time": "2022-04-03T07:12:25.053701Z"
    }
   },
   "outputs": [],
   "source": [
    "# Making 2 dimensional array\n",
    "Buyer_array=np.array([[50,142,131,70],[435,1523,1356,750]])\n",
    "Buyer_array"
   ]
  },
  {
   "cell_type": "code",
   "execution_count": null,
   "id": "f999eaad",
   "metadata": {
    "ExecuteTime": {
     "end_time": "2022-04-03T07:14:33.692305Z",
     "start_time": "2022-04-03T07:14:33.680735Z"
    }
   },
   "outputs": [],
   "source": [
    "# Chi-Square contengency test\n",
    "chi2_contingency(Buyer_array)  #(Chi-square stats value, p_value, df, expected obsvations)"
   ]
  },
  {
   "cell_type": "markdown",
   "id": "2f6674ac",
   "metadata": {},
   "source": [
    "p value > 0.05 ; α = 5%\n",
    "\n",
    "Hence accept Ho (Male-Female buyer rations are similar across regions)"
   ]
  },
  {
   "cell_type": "markdown",
   "id": "c694ea71",
   "metadata": {},
   "source": [
    "# Assignment-03-Q4"
   ]
  },
  {
   "cell_type": "markdown",
   "id": "8d31cc15",
   "metadata": {
    "ExecuteTime": {
     "end_time": "2022-04-03T07:23:53.147149Z",
     "start_time": "2022-04-03T07:23:53.129520Z"
    }
   },
   "source": [
    "Hypothesis Test: Chi-Square contingency Test\n",
    "\n",
    "Null Hypothesis Ho : Customer order forms defective % does not varies by centre\n",
    "\n",
    "Alternate Hypothesis Ha : Customer order forms defective % varies by centre"
   ]
  },
  {
   "cell_type": "code",
   "execution_count": null,
   "id": "fb6fc10a",
   "metadata": {
    "ExecuteTime": {
     "end_time": "2022-04-03T07:22:34.065357Z",
     "start_time": "2022-04-03T07:22:34.054868Z"
    }
   },
   "outputs": [],
   "source": [
    "import pandas as pd\n",
    "import numpy as np\n",
    "from scipy import stats\n",
    "from scipy.stats import norm\n",
    "from scipy.stats import chi2_contingency"
   ]
  },
  {
   "cell_type": "code",
   "execution_count": null,
   "id": "0e7f9c4e",
   "metadata": {
    "ExecuteTime": {
     "end_time": "2022-04-03T07:29:05.104632Z",
     "start_time": "2022-04-03T07:29:05.087681Z"
    }
   },
   "outputs": [],
   "source": [
    "cust_order=pd.read_csv(\"Costomer+OrderForm.csv\")\n",
    "cust_order"
   ]
  },
  {
   "cell_type": "code",
   "execution_count": null,
   "id": "05022c3a",
   "metadata": {
    "ExecuteTime": {
     "end_time": "2022-04-03T07:28:04.526512Z",
     "start_time": "2022-04-03T07:28:04.516547Z"
    }
   },
   "outputs": [],
   "source": [
    "# checking for null values\n",
    "cust_order.isna().sum()"
   ]
  },
  {
   "cell_type": "code",
   "execution_count": null,
   "id": "8f7b0bb6",
   "metadata": {
    "ExecuteTime": {
     "end_time": "2022-04-03T07:39:28.537397Z",
     "start_time": "2022-04-03T07:39:28.516011Z"
    }
   },
   "outputs": [],
   "source": [
    "# Getting count of categorical data (Error free and Defective)\n",
    "errorfree_pillippines,defective_pillippines=cust_order.Phillippines.value_counts()\n",
    "errorfree_pillippines,defective_pillippines"
   ]
  },
  {
   "cell_type": "code",
   "execution_count": null,
   "id": "0121589d",
   "metadata": {
    "ExecuteTime": {
     "end_time": "2022-04-03T07:38:17.913324Z",
     "start_time": "2022-04-03T07:38:17.905310Z"
    }
   },
   "outputs": [],
   "source": [
    "errorfree_indonesia,defective_indonesia=cust_order.Indonesia.value_counts()\n",
    "errorfree_indonesia,defective_indonesia"
   ]
  },
  {
   "cell_type": "code",
   "execution_count": null,
   "id": "08f29187",
   "metadata": {
    "ExecuteTime": {
     "end_time": "2022-04-03T07:40:09.625098Z",
     "start_time": "2022-04-03T07:40:09.616811Z"
    }
   },
   "outputs": [],
   "source": [
    "errorfree_malta,defective_malta=cust_order.Malta.value_counts()\n",
    "errorfree_malta,defective_malta"
   ]
  },
  {
   "cell_type": "code",
   "execution_count": null,
   "id": "3d18e24e",
   "metadata": {
    "ExecuteTime": {
     "end_time": "2022-04-03T07:40:35.906268Z",
     "start_time": "2022-04-03T07:40:35.894360Z"
    }
   },
   "outputs": [],
   "source": [
    "errorfree_india,defective_india=cust_order.India.value_counts()\n",
    "errorfree_india,defective_india"
   ]
  },
  {
   "cell_type": "code",
   "execution_count": null,
   "id": "518dcdfc",
   "metadata": {
    "ExecuteTime": {
     "end_time": "2022-04-03T07:42:17.736549Z",
     "start_time": "2022-04-03T07:42:17.722809Z"
    }
   },
   "outputs": [],
   "source": [
    "# Converting the above data into array\n",
    "cust_array=np.array([[errorfree_pillippines,errorfree_indonesia,errorfree_malta,errorfree_india],[defective_pillippines,defective_indonesia,defective_malta,defective_india]])\n",
    "cust_array"
   ]
  },
  {
   "cell_type": "code",
   "execution_count": null,
   "id": "a0010259",
   "metadata": {
    "ExecuteTime": {
     "end_time": "2022-04-03T07:46:50.741077Z",
     "start_time": "2022-04-03T07:46:50.730155Z"
    }
   },
   "outputs": [],
   "source": [
    "# Chi2 contengency independence test\n",
    "chi2_contingency(cust_array)  #(Chi-square stats value, p_value, df, expected obsvations)"
   ]
  },
  {
   "cell_type": "markdown",
   "id": "9239640b",
   "metadata": {},
   "source": [
    "p value > 0.05 ; α = 5%\n",
    "\n",
    "Hence accept Ho (Customer order forms defective % does not varies by centre)"
   ]
  }
 ],
 "metadata": {
  "kernelspec": {
   "display_name": "Python 3 (ipykernel)",
   "language": "python",
   "name": "python3"
  },
  "language_info": {
   "codemirror_mode": {
    "name": "ipython",
    "version": 3
   },
   "file_extension": ".py",
   "mimetype": "text/x-python",
   "name": "python",
   "nbconvert_exporter": "python",
   "pygments_lexer": "ipython3",
   "version": "3.9.7"
  },
  "varInspector": {
   "cols": {
    "lenName": 16,
    "lenType": 16,
    "lenVar": 40
   },
   "kernels_config": {
    "python": {
     "delete_cmd_postfix": "",
     "delete_cmd_prefix": "del ",
     "library": "var_list.py",
     "varRefreshCmd": "print(var_dic_list())"
    },
    "r": {
     "delete_cmd_postfix": ") ",
     "delete_cmd_prefix": "rm(",
     "library": "var_list.r",
     "varRefreshCmd": "cat(var_dic_list()) "
    }
   },
   "types_to_exclude": [
    "module",
    "function",
    "builtin_function_or_method",
    "instance",
    "_Feature"
   ],
   "window_display": false
  }
 },
 "nbformat": 4,
 "nbformat_minor": 5
}
