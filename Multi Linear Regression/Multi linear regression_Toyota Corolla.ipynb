{
 "cells": [
  {
   "cell_type": "code",
   "execution_count": null,
   "id": "bf9e02f6",
   "metadata": {},
   "outputs": [],
   "source": [
    "import pandas as pd\n",
    "import numpy as np\n",
    "import matplotlib.pyplot as plt\n",
    "import seaborn as sns\n",
    "import statsmodels.formula.api as smf\n",
    "import statsmodels.api as sm\n",
    "from statsmodels.graphics.regressionplots import influence_plot"
   ]
  },
  {
   "cell_type": "code",
   "execution_count": null,
   "id": "58eefa27",
   "metadata": {},
   "outputs": [],
   "source": [
    "toyo=pd.read_csv(r\"D:\\Data Science\\Jupyter Notebook\\CSV files\\ToyotaCorolla.csv\",encoding='latin1')\n",
    "toyo.head()"
   ]
  },
  {
   "cell_type": "code",
   "execution_count": null,
   "id": "6b4574ee",
   "metadata": {},
   "outputs": [],
   "source": [
    "toyo.info()"
   ]
  },
  {
   "cell_type": "code",
   "execution_count": null,
   "id": "934f1417",
   "metadata": {},
   "outputs": [],
   "source": [
    "toyo2=pd.concat([toyo.iloc[:,2:4],toyo.iloc[:,6:7],toyo.iloc[:,8:9],toyo.iloc[:,12:14],toyo.iloc[:,15:18]],axis=1)\n",
    "toyo2"
   ]
  },
  {
   "cell_type": "code",
   "execution_count": null,
   "id": "39d60d54",
   "metadata": {},
   "outputs": [],
   "source": [
    "toyo3=toyo2.rename({'Age_08_04':'Age','cc':'CC','Quarterly_Tax':'QT'},axis=1)\n",
    "toyo3"
   ]
  },
  {
   "cell_type": "code",
   "execution_count": null,
   "id": "230006ba",
   "metadata": {},
   "outputs": [],
   "source": [
    "toyo3[toyo3.duplicated()]"
   ]
  },
  {
   "cell_type": "code",
   "execution_count": null,
   "id": "409305ec",
   "metadata": {},
   "outputs": [],
   "source": [
    "toyo4=toyo3.drop_duplicates().reset_index(drop=True)\n",
    "toyo4"
   ]
  },
  {
   "cell_type": "code",
   "execution_count": null,
   "id": "887d3173",
   "metadata": {},
   "outputs": [],
   "source": [
    "toyo4.describe()"
   ]
  },
  {
   "cell_type": "code",
   "execution_count": null,
   "id": "d157f29c",
   "metadata": {},
   "outputs": [],
   "source": [
    "toyo4.corr()"
   ]
  },
  {
   "cell_type": "code",
   "execution_count": null,
   "id": "5861daad",
   "metadata": {},
   "outputs": [],
   "source": [
    "sns.set_style(style='darkgrid')\n",
    "sns.pairplot(toyo4)"
   ]
  },
  {
   "cell_type": "code",
   "execution_count": null,
   "id": "047e6239",
   "metadata": {},
   "outputs": [],
   "source": [
    "# Model Building\n",
    "model=smf.ols('Price~Age+KM+HP+CC+Doors+Gears+QT+Weight',data=toyo4).fit()"
   ]
  },
  {
   "cell_type": "code",
   "execution_count": null,
   "id": "bc6a36a1",
   "metadata": {},
   "outputs": [],
   "source": [
    "# Model Testing\n",
    "# Finding Coefficient parameters\n",
    "model.params"
   ]
  },
  {
   "cell_type": "code",
   "execution_count": null,
   "id": "f27d50d7",
   "metadata": {},
   "outputs": [],
   "source": [
    "# Finding tvalues and pvalues\n",
    "model.tvalues , np.round(model.pvalues,5)"
   ]
  },
  {
   "cell_type": "code",
   "execution_count": null,
   "id": "d1ef5e32",
   "metadata": {},
   "outputs": [],
   "source": [
    "# Finding rsquared values\n",
    "model.rsquared , model.rsquared_adj   # Model accuracy is 86.17%"
   ]
  },
  {
   "cell_type": "code",
   "execution_count": null,
   "id": "394f45a1",
   "metadata": {},
   "outputs": [],
   "source": [
    "# Build SLR and MLR models for insignificant variables 'CC' and 'Doors'\n",
    "# Also find their tvalues and pvalues\n",
    "slr_c=smf.ols('Price~CC',data=toyo4).fit()\n",
    "slr_c.tvalues , slr_c.pvalues # CC has significant pvalue"
   ]
  },
  {
   "cell_type": "code",
   "execution_count": null,
   "id": "5bdd5466",
   "metadata": {},
   "outputs": [],
   "source": [
    "slr_d=smf.ols('Price~Doors',data=toyo4).fit()\n",
    "slr_d.tvalues , slr_d.pvalues # Doors has significant pvalue"
   ]
  },
  {
   "cell_type": "code",
   "execution_count": null,
   "id": "49d34506",
   "metadata": {},
   "outputs": [],
   "source": [
    "mlr_cd=smf.ols('Price~CC+Doors',data=toyo4).fit()\n",
    "mlr_cd.tvalues , mlr_cd.pvalues # CC & Doors have significant pvalue"
   ]
  },
  {
   "cell_type": "code",
   "execution_count": null,
   "id": "c95e4292",
   "metadata": {},
   "outputs": [],
   "source": [
    "# Model Validation Techniques\n",
    "# Two Techniques: 1. Collinearity Check & 2. Residual Analysis\n",
    "# 1) Collinearity Problem Check\n",
    "# Calculate VIF = 1/(1-Rsquare) for all independent variables\n",
    "\n",
    "rsq_age=smf.ols('Age~KM+HP+CC+Doors+Gears+QT+Weight',data=toyo4).fit().rsquared\n",
    "vif_age=1/(1-rsq_age)\n",
    "\n",
    "rsq_KM=smf.ols('KM~Age+HP+CC+Doors+Gears+QT+Weight',data=toyo4).fit().rsquared\n",
    "vif_KM=1/(1-rsq_KM)\n",
    "\n",
    "rsq_HP=smf.ols('HP~Age+KM+CC+Doors+Gears+QT+Weight',data=toyo4).fit().rsquared\n",
    "vif_HP=1/(1-rsq_HP)\n",
    "\n",
    "rsq_CC=smf.ols('CC~Age+KM+HP+Doors+Gears+QT+Weight',data=toyo4).fit().rsquared\n",
    "vif_CC=1/(1-rsq_CC)\n",
    "\n",
    "rsq_DR=smf.ols('Doors~Age+KM+HP+CC+Gears+QT+Weight',data=toyo4).fit().rsquared\n",
    "vif_DR=1/(1-rsq_DR)\n",
    "\n",
    "rsq_GR=smf.ols('Gears~Age+KM+HP+CC+Doors+QT+Weight',data=toyo4).fit().rsquared\n",
    "vif_GR=1/(1-rsq_GR)\n",
    "\n",
    "rsq_QT=smf.ols('QT~Age+KM+HP+CC+Doors+Gears+Weight',data=toyo4).fit().rsquared\n",
    "vif_QT=1/(1-rsq_QT)\n",
    "\n",
    "rsq_WT=smf.ols('Weight~Age+KM+HP+CC+Doors+Gears+QT',data=toyo4).fit().rsquared\n",
    "vif_WT=1/(1-rsq_WT)\n",
    "\n",
    "# Putting the values in Dataframe format\n",
    "d1={'Variables':['Age','KM','HP','CC','Doors','Gears','QT','Weight'],\n",
    "    'Vif':[vif_age,vif_KM,vif_HP,vif_CC,vif_DR,vif_GR,vif_QT,vif_WT]}\n",
    "Vif_df=pd.DataFrame(d1)\n",
    "Vif_df"
   ]
  },
  {
   "cell_type": "markdown",
   "id": "1540a3ba",
   "metadata": {},
   "source": [
    "None variable has VIF>20, No Collinearity, so consider all varaibles in Regression equation"
   ]
  },
  {
   "cell_type": "code",
   "execution_count": null,
   "id": "b2580ecf",
   "metadata": {},
   "outputs": [],
   "source": [
    "# 2) Residual Analysis\n",
    "# Test for Normality of Residuals (Q-Q Plot) using residual model (model.resid)\n",
    "sm.qqplot(model.resid,line='q') # 'q' - A line is fit through the quartiles # line = '45'- to draw the 45-degree diagonal line\n",
    "plt.title(\"Normal Q-Q plot of residuals\")\n",
    "plt.show()"
   ]
  },
  {
   "cell_type": "code",
   "execution_count": null,
   "id": "46a775c6",
   "metadata": {},
   "outputs": [],
   "source": [
    "list(np.where(model.resid>6000))  # outliar detection from above QQ plot of residuals"
   ]
  },
  {
   "cell_type": "code",
   "execution_count": null,
   "id": "51b9ce81",
   "metadata": {},
   "outputs": [],
   "source": [
    "list(np.where(model.resid<-6000))"
   ]
  },
  {
   "cell_type": "code",
   "execution_count": null,
   "id": "9a8ae04c",
   "metadata": {},
   "outputs": [],
   "source": [
    "# Test for Homoscedasticity or Heteroscedasticity (plotting model's standardized fitted values vs standardized residual values)\n",
    "\n",
    "def standard_values(vals): \n",
    "    return (vals-vals.mean())/vals.std()  # User defined z = (x - mu)/sigma"
   ]
  },
  {
   "cell_type": "code",
   "execution_count": null,
   "id": "24a982d4",
   "metadata": {},
   "outputs": [],
   "source": [
    "plt.scatter(standard_values(model.fittedvalues),standard_values(model.resid))\n",
    "plt.title('Residual Plot')\n",
    "plt.xlabel('standardized fitted values')\n",
    "plt.ylabel('standardized residual values')\n",
    "plt.show() "
   ]
  },
  {
   "cell_type": "code",
   "execution_count": null,
   "id": "54f04d5c",
   "metadata": {},
   "outputs": [],
   "source": [
    "# Test for errors or Residuals Vs Regressors or independent 'x' variables or predictors \n",
    "# using Residual Regression Plots code graphics.plot_regress_exog(model,'x',fig)    # exog = x-variable & endog = y-variable\n",
    "fig=plt.figure(figsize=(15,8))\n",
    "sm.graphics.plot_regress_exog(model,'Age',fig=fig)\n",
    "plt.show()"
   ]
  },
  {
   "cell_type": "code",
   "execution_count": null,
   "id": "bf02fe3a",
   "metadata": {},
   "outputs": [],
   "source": [
    "fig=plt.figure(figsize=(15,8))\n",
    "sm.graphics.plot_regress_exog(model,'KM',fig=fig)\n",
    "plt.show()"
   ]
  },
  {
   "cell_type": "code",
   "execution_count": null,
   "id": "cc31db54",
   "metadata": {},
   "outputs": [],
   "source": [
    "fig=plt.figure(figsize=(15,8))\n",
    "sm.graphics.plot_regress_exog(model,'HP',fig=fig)\n",
    "plt.show()"
   ]
  },
  {
   "cell_type": "code",
   "execution_count": null,
   "id": "bb193ded",
   "metadata": {},
   "outputs": [],
   "source": [
    "fig=plt.figure(figsize=(15,8))\n",
    "sm.graphics.plot_regress_exog(model,'CC',fig=fig)\n",
    "plt.show()"
   ]
  },
  {
   "cell_type": "code",
   "execution_count": null,
   "id": "dc98ec85",
   "metadata": {},
   "outputs": [],
   "source": [
    "fig=plt.figure(figsize=(15,8))\n",
    "sm.graphics.plot_regress_exog(model,'Doors',fig=fig)\n",
    "plt.show()"
   ]
  },
  {
   "cell_type": "code",
   "execution_count": null,
   "id": "a763140e",
   "metadata": {},
   "outputs": [],
   "source": [
    "fig=plt.figure(figsize=(15,8))\n",
    "sm.graphics.plot_regress_exog(model,'Gears',fig=fig)\n",
    "plt.show()"
   ]
  },
  {
   "cell_type": "code",
   "execution_count": null,
   "id": "75c89a95",
   "metadata": {},
   "outputs": [],
   "source": [
    "fig=plt.figure(figsize=(15,8))\n",
    "sm.graphics.plot_regress_exog(model,'QT',fig=fig)\n",
    "plt.show()"
   ]
  },
  {
   "cell_type": "code",
   "execution_count": null,
   "id": "df8556af",
   "metadata": {},
   "outputs": [],
   "source": [
    "fig=plt.figure(figsize=(15,8))\n",
    "sm.graphics.plot_regress_exog(model,'Weight',fig=fig)\n",
    "plt.show()"
   ]
  },
  {
   "cell_type": "code",
   "execution_count": null,
   "id": "e49bbe6a",
   "metadata": {},
   "outputs": [],
   "source": [
    "# Model Deletion Diagnostics (checking Outliers or Influencers)\n",
    "# Two Techniques : 1. Cook's Distance & 2. Leverage value\n",
    "# 1. Cook's Distance: If Cook's distance > 1, then it's an outlier\n",
    "# Get influencers using cook's distance\n",
    "(c,_)=model.get_influence().cooks_distance\n",
    "c"
   ]
  },
  {
   "cell_type": "code",
   "execution_count": null,
   "id": "3defca9c",
   "metadata": {},
   "outputs": [],
   "source": [
    "# Plot the influencers using the stem plot\n",
    "fig=plt.figure(figsize=(15,7))\n",
    "plt.stem(np.arange(len(toyo4)),np.round(c,3))\n",
    "plt.xlabel('Row Index')\n",
    "plt.ylabel('Cooks Distance')\n",
    "plt.show()"
   ]
  },
  {
   "cell_type": "code",
   "execution_count": null,
   "id": "ad265247",
   "metadata": {},
   "outputs": [],
   "source": [
    "# Index and value of influencer where C>0.5\n",
    "np.argmax(c) , np.max(c)"
   ]
  },
  {
   "cell_type": "code",
   "execution_count": null,
   "id": "4c6e24a5",
   "metadata": {},
   "outputs": [],
   "source": [
    "# 2. Leverage Value using High Influence Points : Points beyond Leverage_cutoff value are influencers\n",
    "fig,ax=plt.subplots(figsize=(15,10))\n",
    "fig=influence_plot(model,ax = ax)"
   ]
  },
  {
   "cell_type": "code",
   "execution_count": null,
   "id": "cebb112a",
   "metadata": {},
   "outputs": [],
   "source": [
    "# Leverage Cuttoff Value = 3*(k+1)/n ; k = no.of features/columns & n = no. of datapoints\n",
    "k=toyo4.shape[1]\n",
    "n=toyo4.shape[0]\n",
    "leverage_cutoff = (3*(k+1))/n\n",
    "leverage_cutoff"
   ]
  },
  {
   "cell_type": "code",
   "execution_count": null,
   "id": "410f0972",
   "metadata": {},
   "outputs": [],
   "source": [
    "toyo4[toyo4.index.isin([80])] "
   ]
  },
  {
   "cell_type": "code",
   "execution_count": null,
   "id": "bdbee35f",
   "metadata": {},
   "outputs": [],
   "source": [
    "# Improving the Model\n",
    "# Creating a copy of data so that original dataset is not affected\n",
    "toyo_new=toyo4.copy()\n",
    "toyo_new"
   ]
  },
  {
   "cell_type": "code",
   "execution_count": null,
   "id": "fb55a387",
   "metadata": {},
   "outputs": [],
   "source": [
    "# Discard the data points which are influencers and reassign the row number (reset_index(drop=True))\n",
    "toyo5=toyo_new.drop(toyo_new.index[[80]],axis=0).reset_index(drop=True)\n",
    "toyo5"
   ]
  },
  {
   "cell_type": "code",
   "execution_count": null,
   "id": "6a76c04c",
   "metadata": {},
   "outputs": [],
   "source": [
    "# Model Deletion Diagnostics and Final Model\n",
    "while model.rsquared < 0.90:\n",
    "    for c in [np.max(c)>0.5]:\n",
    "        model=smf.ols('Price~Age+KM+HP+CC+Doors+Gears+QT+Weight',data=toyo5).fit()\n",
    "        (c,_)=model.get_influence().cooks_distance\n",
    "        c\n",
    "        np.argmax(c) , np.max(c)\n",
    "        toyo5=toyo5.drop(toyo5.index[[np.argmax(c)]],axis=0).reset_index(drop=True)\n",
    "        toyo5\n",
    "    else:\n",
    "        final_model=smf.ols('Price~Age+KM+HP+CC+Doors+Gears+QT+Weight',data=toyo5).fit()\n",
    "        final_model.rsquared , final_model.aic"
   ]
  },
  {
   "cell_type": "code",
   "execution_count": null,
   "id": "6a56192e",
   "metadata": {},
   "outputs": [],
   "source": [
    "final_model.rsquared # Model Accuracy is increased to 90.03%"
   ]
  },
  {
   "cell_type": "code",
   "execution_count": null,
   "id": "2243374d",
   "metadata": {},
   "outputs": [],
   "source": [
    "toyo5"
   ]
  },
  {
   "cell_type": "code",
   "execution_count": null,
   "id": "c3d9cca6",
   "metadata": {},
   "outputs": [],
   "source": [
    "# Model Predictions\n",
    "# say New data for prediction is\n",
    "new_data=pd.DataFrame({'Age':12,\"KM\":40000,\"HP\":80,\"CC\":1300,\"Doors\":4,\"Gears\":5,\"QT\":69,\"Weight\":1012},index=[0])\n",
    "new_data"
   ]
  },
  {
   "cell_type": "code",
   "execution_count": null,
   "id": "e5a2a53b",
   "metadata": {},
   "outputs": [],
   "source": [
    "# Manual Prediction of Price\n",
    "final_model.predict(new_data)"
   ]
  },
  {
   "cell_type": "code",
   "execution_count": null,
   "id": "3d538c99",
   "metadata": {},
   "outputs": [],
   "source": [
    "# Automatic Prediction of Price with 90.02% accurcy\n",
    "pred_y=final_model.predict(toyo5)\n",
    "pred_y"
   ]
  },
  {
   "cell_type": "code",
   "execution_count": null,
   "id": "b5452518",
   "metadata": {},
   "outputs": [],
   "source": []
  }
 ],
 "metadata": {
  "kernelspec": {
   "display_name": "Python 3 (ipykernel)",
   "language": "python",
   "name": "python3"
  },
  "language_info": {
   "codemirror_mode": {
    "name": "ipython",
    "version": 3
   },
   "file_extension": ".py",
   "mimetype": "text/x-python",
   "name": "python",
   "nbconvert_exporter": "python",
   "pygments_lexer": "ipython3",
   "version": "3.9.7"
  },
  "varInspector": {
   "cols": {
    "lenName": 16,
    "lenType": 16,
    "lenVar": 40
   },
   "kernels_config": {
    "python": {
     "delete_cmd_postfix": "",
     "delete_cmd_prefix": "del ",
     "library": "var_list.py",
     "varRefreshCmd": "print(var_dic_list())"
    },
    "r": {
     "delete_cmd_postfix": ") ",
     "delete_cmd_prefix": "rm(",
     "library": "var_list.r",
     "varRefreshCmd": "cat(var_dic_list()) "
    }
   },
   "types_to_exclude": [
    "module",
    "function",
    "builtin_function_or_method",
    "instance",
    "_Feature"
   ],
   "window_display": false
  }
 },
 "nbformat": 4,
 "nbformat_minor": 5
}
