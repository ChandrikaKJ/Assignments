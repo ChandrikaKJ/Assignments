{
 "cells": [
  {
   "cell_type": "code",
   "execution_count": null,
   "id": "444b157f",
   "metadata": {},
   "outputs": [],
   "source": [
    "import pandas as pd\n",
    "import matplotlib.pyplot as plt\n",
    "import seaborn as sns\n",
    "from statsmodels.graphics.regressionplots import influence_plot\n",
    "import statsmodels.formula.api as smf\n",
    "import numpy as np"
   ]
  },
  {
   "cell_type": "code",
   "execution_count": null,
   "id": "6bfc642d",
   "metadata": {
    "ExecuteTime": {
     "end_time": "2022-04-05T07:57:50.108315Z",
     "start_time": "2022-04-05T07:57:50.083360Z"
    }
   },
   "outputs": [],
   "source": [
    "Startups = pd.read_csv(r\"D:\\Data Science\\Jupyter Notebook\\CSV files\\50_Startups.csv\")\n",
    "Startups.head()"
   ]
  },
  {
   "cell_type": "code",
   "execution_count": null,
   "id": "f86e489e",
   "metadata": {},
   "outputs": [],
   "source": [
    "Startups.drop(Startups.columns[3], axis = 1, inplace = True)\n",
    "Startups= Startups.rename(columns={'R&D Spend':'RD_Spend','Marketing Spend':'Marketing_Spend'})\n",
    "Startups.head()"
   ]
  },
  {
   "cell_type": "code",
   "execution_count": null,
   "id": "9c588cc8",
   "metadata": {},
   "outputs": [],
   "source": [
    "Startups.info()"
   ]
  },
  {
   "cell_type": "code",
   "execution_count": null,
   "id": "a74c2d3f",
   "metadata": {},
   "outputs": [],
   "source": [
    "#check for missing values\n",
    "Startups.isna().sum()"
   ]
  },
  {
   "cell_type": "code",
   "execution_count": null,
   "id": "90719ad3",
   "metadata": {},
   "outputs": [],
   "source": [
    "# Correlation Matrix\n",
    "Startups.corr()"
   ]
  },
  {
   "cell_type": "code",
   "execution_count": null,
   "id": "93f442c9",
   "metadata": {},
   "outputs": [],
   "source": [
    "# Scatterplot b/w variables along with histograms\n",
    "sns.set_style(style='darkgrid')\n",
    "sns.pairplot(Startups)"
   ]
  },
  {
   "cell_type": "code",
   "execution_count": null,
   "id": "396ff8c1",
   "metadata": {},
   "outputs": [],
   "source": [
    "# Building a model\n",
    "import statsmodels.formula.api as smf \n",
    "model = smf.ols('Profit~RD_Spend+Administration+Marketing_Spend',data=Startups).fit()\n",
    "model"
   ]
  },
  {
   "cell_type": "code",
   "execution_count": null,
   "id": "b815a417",
   "metadata": {},
   "outputs": [],
   "source": [
    "#Coefficients\n",
    "model.params"
   ]
  },
  {
   "cell_type": "code",
   "execution_count": null,
   "id": "d846985d",
   "metadata": {},
   "outputs": [],
   "source": [
    "# t-values and p-values\n",
    "model.tvalues,np.round(model.pvalues,5)"
   ]
  },
  {
   "cell_type": "code",
   "execution_count": null,
   "id": "0f0e7449",
   "metadata": {},
   "outputs": [],
   "source": [
    "#R squared values\n",
    "(model.rsquared,model.rsquared_adj)"
   ]
  },
  {
   "cell_type": "code",
   "execution_count": null,
   "id": "0c4744ae",
   "metadata": {},
   "outputs": [],
   "source": [
    "# Build SLR and MLR models for insignificant variables 'Administration' and 'Marketing_Spend'\n",
    "# Also find their t-values and p-values"
   ]
  },
  {
   "cell_type": "code",
   "execution_count": null,
   "id": "9950f013",
   "metadata": {},
   "outputs": [],
   "source": [
    "# Simple Linear Regression Models\n",
    "# t-values and p-Values\n",
    "slr_a=smf.ols('Profit~Administration',data = Startups).fit()\n",
    "slr_a.tvalues, slr_a.pvalues # Administration has in-significant p-value "
   ]
  },
  {
   "cell_type": "code",
   "execution_count": null,
   "id": "c5f908fa",
   "metadata": {},
   "outputs": [],
   "source": [
    "slr_m=smf.ols(\"Profit~Marketing_Spend\",data=Startups).fit()\n",
    "slr_m.tvalues , slr_m.pvalues  # Marketing_Spend has significant p-value"
   ]
  },
  {
   "cell_type": "code",
   "execution_count": null,
   "id": "8ac31ba5",
   "metadata": {},
   "outputs": [],
   "source": [
    "mlr_am=smf.ols(\"Profit~Administration+Marketing_Spend\",data=Startups).fit()\n",
    "mlr_am.tvalues , mlr_am.pvalues  # varaibles have significant p-values"
   ]
  },
  {
   "cell_type": "code",
   "execution_count": null,
   "id": "ff0c25a2",
   "metadata": {},
   "outputs": [],
   "source": [
    "# Model Validation\n",
    "# Two Techniques: 1. Collinearity Check & 2. Residual Analysis\n",
    "# Collinearity Check, Calculating VIF\n",
    "rsq_Administration = smf.ols('Administration~RD_Spend+Marketing_Spend',data=Startups).fit().rsquared  \n",
    "vif_Administration = 1/(1-rsq_Administration) \n",
    "vif_Administration"
   ]
  },
  {
   "cell_type": "code",
   "execution_count": null,
   "id": "97275958",
   "metadata": {},
   "outputs": [],
   "source": [
    "rsq_RD_Spend = smf.ols('RD_Spend~Administration+Marketing_Spend',data=Startups).fit().rsquared  \n",
    "vif_RD_Spend = 1/(1-rsq_RD_Spend)\n",
    "vif_RD_Spend"
   ]
  },
  {
   "cell_type": "code",
   "execution_count": null,
   "id": "6226cf27",
   "metadata": {},
   "outputs": [],
   "source": [
    "rsq_Marketing_Spend = smf.ols('Marketing_Spend~RD_Spend+Administration',data=Startups).fit().rsquared  \n",
    "vif_Marketing_Spend = 1/(1-rsq_Marketing_Spend)  #564.84\n",
    "vif_Marketing_Spend"
   ]
  },
  {
   "cell_type": "code",
   "execution_count": null,
   "id": "4bb5572d",
   "metadata": {},
   "outputs": [],
   "source": [
    "# Storing VIF values in a data frame\n",
    "d1 = {'Variables':['RD_Spend','Administration','Marketing_Spend'],'VIF':[vif_RD_Spend,vif_Administration,vif_Marketing_Spend]}\n",
    "Vif_frame = pd.DataFrame(d1)  \n",
    "Vif_frame"
   ]
  },
  {
   "cell_type": "markdown",
   "id": "a0f0e0ec",
   "metadata": {},
   "source": [
    "None variable has VIF>20, No Collinearity, so consider all varaibles in Regression equation"
   ]
  },
  {
   "cell_type": "code",
   "execution_count": null,
   "id": "23beb131",
   "metadata": {},
   "outputs": [],
   "source": [
    "# Residual Analysis\n",
    "# Test for Normality of Residuals (Q-Q Plot)\n",
    "import statsmodels.api as sm\n",
    "qqplot=sm.qqplot(model.resid,line='q') # line = q to draw the diagnoal line\n",
    "plt.title(\"Normal Q-Q plot of residuals\")\n",
    "plt.show()"
   ]
  },
  {
   "cell_type": "code",
   "execution_count": null,
   "id": "a478bc63",
   "metadata": {},
   "outputs": [],
   "source": [
    "list(np.where(model.resid<-30000)) "
   ]
  },
  {
   "cell_type": "code",
   "execution_count": null,
   "id": "9d196edc",
   "metadata": {},
   "outputs": [],
   "source": [
    "#Residual Plot for Homoscedasticity\n",
    "def get_standardized_values( vals ):\n",
    "    return (vals - vals.mean())/vals.std()   # User defined z = (x - mu)/sigma"
   ]
  },
  {
   "cell_type": "code",
   "execution_count": null,
   "id": "371ae88a",
   "metadata": {},
   "outputs": [],
   "source": [
    "plt.scatter(get_standardized_values(model.fittedvalues),get_standardized_values(model.resid))\n",
    "plt.title('Residual Plot')\n",
    "plt.xlabel('Standardized Fitted values')\n",
    "plt.ylabel('Standardized residual values')\n",
    "plt.show()"
   ]
  },
  {
   "cell_type": "code",
   "execution_count": null,
   "id": "ea6149e4",
   "metadata": {},
   "outputs": [],
   "source": [
    "# Residual vs Regressors\n",
    "# Test for errors or Residuals Vs Regressors or independent 'x' variables or predictors \n",
    "# using Residual Regression Plots code graphics.plot_regress_exog(model,'x',fig)    # exog = x-variable & endog = y-variable\n",
    "fig = plt.figure(figsize=(15,8))\n",
    "fig = sm.graphics.plot_regress_exog(model, \"Administration\", fig=fig)\n",
    "plt.show()"
   ]
  },
  {
   "cell_type": "code",
   "execution_count": null,
   "id": "6a93cb59",
   "metadata": {},
   "outputs": [],
   "source": [
    "fig = plt.figure(figsize=(15,8))\n",
    "fig = sm.graphics.plot_regress_exog(model, \"RD_Spend\", fig=fig)\n",
    "plt.show()"
   ]
  },
  {
   "cell_type": "code",
   "execution_count": null,
   "id": "233a41a1",
   "metadata": {},
   "outputs": [],
   "source": [
    "fig = plt.figure(figsize=(15,8))\n",
    "fig = sm.graphics.plot_regress_exog(model, \"Marketing_Spend\", fig=fig)\n",
    "plt.show()"
   ]
  },
  {
   "cell_type": "code",
   "execution_count": null,
   "id": "db9e75e8",
   "metadata": {},
   "outputs": [],
   "source": [
    "# Model Deletion Diagnostics\n",
    "# Detecting Influencers/Outliers\n",
    "# Cook's Distance\n",
    "model_influence = model.get_influence()\n",
    "(c, _) = model_influence.cooks_distance\n",
    "c"
   ]
  },
  {
   "cell_type": "code",
   "execution_count": null,
   "id": "88057fb0",
   "metadata": {},
   "outputs": [],
   "source": [
    "# Plot the influencers values using stem plot\n",
    "fig = plt.subplots(figsize=(20, 7))\n",
    "plt.stem(np.arange(len(Startups)), np.round(c, 5))\n",
    "plt.xlabel('Row index')\n",
    "plt.ylabel('Cooks Distance')\n",
    "plt.show()"
   ]
  },
  {
   "cell_type": "code",
   "execution_count": null,
   "id": "4e13cfaa",
   "metadata": {},
   "outputs": [],
   "source": [
    "# Index and value of influencer where c is more than 0.5\n",
    "(np.argmax(c),np.max(c))"
   ]
  },
  {
   "cell_type": "code",
   "execution_count": null,
   "id": "b5113df7",
   "metadata": {},
   "outputs": [],
   "source": [
    "# High Influence points\n",
    "from statsmodels.graphics.regressionplots import influence_plot\n",
    "influence_plot(model)\n",
    "plt.show()"
   ]
  },
  {
   "cell_type": "code",
   "execution_count": null,
   "id": "d00e0f5c",
   "metadata": {},
   "outputs": [],
   "source": [
    "# Leverage Cuttoff Value = 3*(k+1)/n ; k = no.of features/columns & n = no. of datapoints\n",
    "k = Startups.shape[1]\n",
    "n = Startups.shape[0]\n",
    "leverage_cutoff = (3*(k+1))/n\n",
    "leverage_cutoff"
   ]
  },
  {
   "cell_type": "code",
   "execution_count": null,
   "id": "45ae99f1",
   "metadata": {},
   "outputs": [],
   "source": [
    "Startups[Startups.index.isin([49])] "
   ]
  },
  {
   "cell_type": "markdown",
   "id": "9f18792a",
   "metadata": {},
   "source": [
    "From the above plot, it is evident that data point 49 is influencer"
   ]
  },
  {
   "cell_type": "code",
   "execution_count": null,
   "id": "1895b46b",
   "metadata": {},
   "outputs": [],
   "source": [
    "# Improving the model\n",
    "# Discard the data points which are influencers and reassign the row number (reset_index(drop=True))\n",
    "Startups2=Startups.drop(Startups.index[[49]],axis=0).reset_index(drop=True)\n",
    "Startups2"
   ]
  },
  {
   "cell_type": "code",
   "execution_count": null,
   "id": "5bfdd441",
   "metadata": {},
   "outputs": [],
   "source": [
    "model2=smf.ols(\"Profit~RD_Spend+Administration+Marketing_Spend\",data=Startups2).fit()"
   ]
  },
  {
   "cell_type": "code",
   "execution_count": null,
   "id": "33b1f513",
   "metadata": {},
   "outputs": [],
   "source": [
    "# Build Model\n",
    "# Model Deletion Diagnostics and Final Model\n",
    "while model2.rsquared < 0.99:\n",
    "    for c in [np.max(c)>1]:\n",
    "        model2=smf.ols(\"Profit~RD_Spend+Administration+Marketing_Spend\",data=Startups2).fit()\n",
    "        (c,_)=model2.get_influence().cooks_distance\n",
    "        c\n",
    "        np.argmax(c) , np.max(c)\n",
    "        Startups2=Startups2.drop(Startups2.index[[np.argmax(c)]],axis=0).reset_index(drop=True)\n",
    "        Startups2\n",
    "    else:\n",
    "        final_model=smf.ols(\"Profit~RD_Spend+Administration+Marketing_Spend\",data=Startups2).fit()\n",
    "        final_model.rsquared , final_model.aic"
   ]
  },
  {
   "cell_type": "code",
   "execution_count": null,
   "id": "bf0dfe15",
   "metadata": {},
   "outputs": [],
   "source": [
    "final_model.rsquared"
   ]
  },
  {
   "cell_type": "code",
   "execution_count": null,
   "id": "f921f7f6",
   "metadata": {},
   "outputs": [],
   "source": [
    "Startups2"
   ]
  },
  {
   "cell_type": "code",
   "execution_count": null,
   "id": "78ec55ec",
   "metadata": {},
   "outputs": [],
   "source": [
    "# Model Predictions\n",
    "# say New data for prediction is\n",
    "new_data=pd.DataFrame({'RD_Spend':70000,\"Administration\":90000,\"Marketing_Spend\":140000},index=[0])\n",
    "new_data"
   ]
  },
  {
   "cell_type": "code",
   "execution_count": null,
   "id": "10a571fc",
   "metadata": {},
   "outputs": [],
   "source": [
    "# Manual Prediction of Price\n",
    "final_model.predict(new_data)"
   ]
  },
  {
   "cell_type": "code",
   "execution_count": null,
   "id": "672781a6",
   "metadata": {},
   "outputs": [],
   "source": [
    "# Automatic Prediction of Price with 90.02% accurcy\n",
    "pred_y=final_model.predict(Startups2)\n",
    "pred_y"
   ]
  },
  {
   "cell_type": "code",
   "execution_count": null,
   "id": "f5d79d9a",
   "metadata": {},
   "outputs": [],
   "source": [
    "# table containing R^2 value for each prepared model\n",
    "d2={'Prep_Models':['Model','Final_Model'],'Rsquared':[model.rsquared,final_model.rsquared]}\n",
    "table=pd.DataFrame(d2)\n",
    "table"
   ]
  },
  {
   "cell_type": "code",
   "execution_count": null,
   "id": "4f9a5f22",
   "metadata": {},
   "outputs": [],
   "source": []
  }
 ],
 "metadata": {
  "kernelspec": {
   "display_name": "Python 3 (ipykernel)",
   "language": "python",
   "name": "python3"
  },
  "language_info": {
   "codemirror_mode": {
    "name": "ipython",
    "version": 3
   },
   "file_extension": ".py",
   "mimetype": "text/x-python",
   "name": "python",
   "nbconvert_exporter": "python",
   "pygments_lexer": "ipython3",
   "version": "3.9.7"
  },
  "varInspector": {
   "cols": {
    "lenName": 16,
    "lenType": 16,
    "lenVar": 40
   },
   "kernels_config": {
    "python": {
     "delete_cmd_postfix": "",
     "delete_cmd_prefix": "del ",
     "library": "var_list.py",
     "varRefreshCmd": "print(var_dic_list())"
    },
    "r": {
     "delete_cmd_postfix": ") ",
     "delete_cmd_prefix": "rm(",
     "library": "var_list.r",
     "varRefreshCmd": "cat(var_dic_list()) "
    }
   },
   "types_to_exclude": [
    "module",
    "function",
    "builtin_function_or_method",
    "instance",
    "_Feature"
   ],
   "window_display": false
  }
 },
 "nbformat": 4,
 "nbformat_minor": 5
}
